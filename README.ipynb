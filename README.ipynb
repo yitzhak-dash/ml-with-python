{
 "cells": [
  {
   "cell_type": "raw",
   "metadata": {},
   "source": [
    "# General\n",
    "* *supervised learning* - Machine learning algorithms that learn from input/output pairs are called supervised\n",
    "* *Unsupervised algorithms* -\n",
    "* *sample/data point* - each entity or row(think of your data as a table)\n",
    "* *features* - columns, the properties that describe these entities\n",
    "# Classification:\n",
    "* *classes* - possible outputs\n",
    "* *label* - desired output for a single data point\n",
    "* *shape* - shape of the data array is the number of samples multiplied by the number of features\n",
    "* *training data/training set* - data is used to build our machine learning model\n",
    "* "
   ]
  }
 ],
 "metadata": {
  "kernelspec": {
   "display_name": "Python 3",
   "language": "python",
   "name": "python3"
  },
  "language_info": {
   "codemirror_mode": {
    "name": "ipython",
    "version": 3
   },
   "file_extension": ".py",
   "mimetype": "text/x-python",
   "name": "python",
   "nbconvert_exporter": "python",
   "pygments_lexer": "ipython3",
   "version": "3.6.1"
  }
 },
 "nbformat": 4,
 "nbformat_minor": 2
}
